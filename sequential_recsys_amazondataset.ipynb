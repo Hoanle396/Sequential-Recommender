{
    "cells": [
        {
            "cell_type": "markdown",
            "metadata": {},
            "source": [
                "<i>Copyright (c) Recommenders contributors.</i>\n",
                "\n",
                "<i>Licensed under the MIT License.</i>"
            ]
        },
        {
            "cell_type": "markdown",
            "metadata": {},
            "source": [
                "# Sequential Recommender Quick Start\n",
                "\n",
                "### Example: SLi_Rec : Adaptive User Modeling with Long and Short-Term Preferences for Personailzed Recommendation\n",
                "Unlike a general recommender such as Matrix Factorization or xDeepFM (in the repo) which doesn't consider the order of the user's activities, sequential recommender systems take the sequence of the user behaviors as context and the goal is to predict the items that the user will interact in a short time (in an extreme case, the item that the user will interact next).\n",
                "\n",
                "This notebook aims to give you a quick example of how to train a sequential model based on a public Amazon dataset. Currently, we can support NextItNet \\[4\\], GRU \\[2\\], Caser \\[3\\], A2SVD \\[1\\], SLi_Rec \\[1\\], and SUM \\[5\\]. Without loss of generality, this notebook takes [SLi_Rec model](https://www.microsoft.com/en-us/research/uploads/prod/2019/07/IJCAI19-ready_v1.pdf) for example.\n",
                "SLi_Rec \\[1\\] is a deep learning-based model aims at capturing both long and short-term user preferences for precise recommender systems. To summarize, SLi_Rec has the following key properties:\n",
                "\n",
                "* It adopts the attentive \"Asymmetric-SVD\" paradigm for long-term modeling;\n",
                "* It takes both time irregularity and semantic irregularity into consideration by modifying the gating logic in LSTM.\n",
                "* It uses an attention mechanism to dynamic fuse the long-term component and short-term component.\n",
                "\n",
                "In this notebook, we test SLi_Rec on a subset of the public dataset: [Amazon_reviews](http://snap.stanford.edu/data/amazon/productGraph/categoryFiles/reviews_Movies_and_TV_5.json.gz) and [Amazon_metadata](http://snap.stanford.edu/data/amazon/productGraph/categoryFiles/meta_Movies_and_TV.json.gz)\n",
                "\n",
                "This notebook is tested under TF 2.6. "
            ]
        },
        {
            "cell_type": "markdown",
            "metadata": {},
            "source": [
                "## 0. Global Settings and Imports"
            ]
        },
        {
            "cell_type": "code",
            "execution_count": 1,
            "metadata": {},
            "outputs": [
                {
                    "name": "stdout",
                    "output_type": "stream",
                    "text": [
                        "System version: 3.8.3 (tags/v3.8.3:6f8c832, May 13 2020, 22:37:02) [MSC v.1924 64 bit (AMD64)]\n",
                        "Tensorflow version: 2.13.0\n"
                    ]
                }
            ],
            "source": [
                "import os\n",
                "import sys\n",
                "import tensorflow.compat.v1 as tf\n",
                "tf.get_logger().setLevel('ERROR') # only show error messages\n",
                "\n",
                "from recommenders.utils.timer import Timer\n",
                "from recommenders.utils.constants import SEED\n",
                "from recommenders.models.deeprec.deeprec_utils import (\n",
                "    prepare_hparams\n",
                ")\n",
                "from recommenders.datasets.amazon_reviews import download_and_extract, data_preprocessing\n",
                "from recommenders.models.deeprec.models.sequential.sli_rec import SLI_RECModel as SeqModel\n",
                "####  to use the other model, use one of the following lines:\n",
                "# from recommenders.models.deeprec.models.sequential.asvd import A2SVDModel as SeqModel\n",
                "# from recommenders.models.deeprec.models.sequential.caser import CaserModel as SeqModel\n",
                "# from recommenders.models.deeprec.models.sequential.gru import GRUModel as SeqModel\n",
                "# from recommenders.models.deeprec.models.sequential.sum import SUMModel as SeqModel\n",
                "#from recommenders.models.deeprec.models.sequential.nextitnet import NextItNetModel\n",
                "from recommenders.models.deeprec.io.sequential_iterator import SequentialIterator\n",
                "#from recommenders.models.deeprec.io.nextitnet_iterator import NextItNetIterator\n",
                "from recommenders.utils.notebook_utils import store_metadata\n",
                "\n",
                "print(f\"System version: {sys.version}\")\n",
                "print(f\"Tensorflow version: {tf.__version__}\")\n",
                "\n"
            ]
        },
        {
            "cell_type": "markdown",
            "metadata": {},
            "source": [
                "#### Parameters"
            ]
        },
        {
            "cell_type": "code",
            "execution_count": 2,
            "metadata": {
                "tags": [
                    "parameters"
                ]
            },
            "outputs": [],
            "source": [
                "EPOCHS = 10\n",
                "BATCH_SIZE = 400\n",
                "RANDOM_SEED = SEED  # Set None for non-deterministic result\n",
                "\n",
                "data_path = os.path.join(\"..\", \"..\", \"tests\", \"resources\", \"deeprec\", \"slirec\")\n",
                "\n",
                "##  ATTENTION: change to the corresponding config file, e.g., caser.yaml for CaserModel, sum.yaml for SUMModel\n",
                "yaml_file = '../../recommenders/models/deeprec/config/sli_rec.yaml'  "
            ]
        },
        {
            "cell_type": "markdown",
            "metadata": {},
            "source": [
                "##  1. Input data format\n",
                "The input data contains 8 columns, i.e.,   `<label> <user_id> <item_id> <category_id> <timestamp> <history_item_ids> <history_cateory_ids> <hitory_timestamp>`  columns are seperated by `\"\\t\"`.  item_id and category_id denote the target item and category, which means that for this instance, we want to guess whether user user_id will interact with item_id at timestamp. `<history_*>` columns record the user behavior list up to `<timestamp>`, elements are separated by commas.  `<label>` is a binary value with 1 for positive instances and 0 for negative instances.  One example for an instance is: \n",
                "\n",
                "`1       A1QQ86H5M2LVW2  B0059XTU1S      Movies  1377561600      B002ZG97WE,B004IK30PA,B000BNX3AU,B0017ANB08,B005LAIHW2  Movies,Movies,Movies,Movies,Movies   1304294400,1304812800,1315785600,1316304000,1356998400` \n",
                "\n",
                "In data preprocessing stage, we have a script to generate some ID mapping dictionaries, so user_id, item_id and category_id will be mapped into interager index starting from 1. And you need to tell the input iterator where is the ID mapping files are. (For example, in the next section, we have some mapping files like user_vocab, item_vocab, and cate_vocab).  The data preprocessing script is at [recommenders/dataset/amazon_reviews.py](../../recommenders/dataset/amazon_reviews.py), you need to call the `_create_vocab(train_file, user_vocab, item_vocab, cate_vocab)` function. Note that ID vocabulary only creates from the train_file, so the new IDs in valid_file or test_file will be regarded as unknown IDs and assigned with a defualt 0 index.\n",
                "\n",
                "Only the SLi_Rec model is time-aware. For the other models, you can just pad some meaningless timestamp in the data files to fill up the format, the models will ignore these columns.\n",
                "\n",
                "We use Softmax to the loss function. In training and evalution stage, we group 1 positive instance with `num_ngs` negative instances. Pair-wise ranking can be regarded as a special case of softmax ranking, where `num_ngs` is set to 1. \n",
                "\n",
                "More specifically, for training and evalation, you need to organize the data file such that each one positive instance is followed by `num_ngs` negative instances. Our program will take `1+num_ngs` lines as a unit for Softmax calculation. `num_ngs` is a parameter you need to pass to the `prepare_hparams`, `fit` and `run_eval` function. `train_num_ngs` in `prepare_hparams` denotes the number of negative instances for training, where a recommended number is 4. `valid_num_ngs` and `num_ngs` in `fit` and `run_eval` denote the number in evalution. In evaluation, the model calculates metrics among the `1+num_ngs` instances. For the `predict` function, since we only need to calcuate a score for each individual instance, there is no need for `num_ngs` setting.  More details and examples will be provided in the following sections.\n",
                "\n",
                "For training stage, if you don't want to prepare negative instances, you can just provide positive instances and set the parameter `need_sample=True, train_num_ngs=train_num_ngs` for function `prepare_hparams`, our model will dynamicly sample `train_num_ngs` instances as negative samples in each mini batch.\n",
                "\n",
                "###  Amazon dataset\n",
                "Now let's start with a public dataset containing product reviews and metadata from Amazon, which is widely used as a benchmark dataset in recommemdation systems field."
            ]
        },
        {
            "cell_type": "code",
            "execution_count": 3,
            "metadata": {
                "scrolled": false
            },
            "outputs": [
                {
                    "name": "stderr",
                    "output_type": "stream",
                    "text": [
                        "100%|██████████| 692k/692k [07:13<00:00, 1.60kKB/s] \n",
                        "100%|██████████| 97.5k/97.5k [01:15<00:00, 1.29kKB/s]\n"
                    ]
                }
            ],
            "source": [
                "\n",
                "# for test\n",
                "train_file = os.path.join(data_path, r'train_data')\n",
                "valid_file = os.path.join(data_path, r'valid_data')\n",
                "test_file = os.path.join(data_path, r'test_data')\n",
                "user_vocab = os.path.join(data_path, r'user_vocab.pkl')\n",
                "item_vocab = os.path.join(data_path, r'item_vocab.pkl')\n",
                "cate_vocab = os.path.join(data_path, r'category_vocab.pkl')\n",
                "output_file = os.path.join(data_path, r'output.txt')\n",
                "\n",
                "reviews_name = 'reviews_Movies_and_TV_5.json'\n",
                "meta_name = 'meta_Movies_and_TV.json'\n",
                "reviews_file = os.path.join(data_path, reviews_name)\n",
                "meta_file = os.path.join(data_path, meta_name)\n",
                "train_num_ngs = 4 # number of negative instances with a positive instance for training\n",
                "valid_num_ngs = 4 # number of negative instances with a positive instance for validation\n",
                "test_num_ngs = 9 # number of negative instances with a positive instance for testing\n",
                "sample_rate = 0.01 # sample a small item set for training and testing here for fast example\n",
                "\n",
                "input_files = [reviews_file, meta_file, train_file, valid_file, test_file, user_vocab, item_vocab, cate_vocab]\n",
                "\n",
                "if not os.path.exists(train_file):\n",
                "    download_and_extract(reviews_name, reviews_file)\n",
                "    download_and_extract(meta_name, meta_file)\n",
                "    data_preprocessing(*input_files, sample_rate=sample_rate, valid_num_ngs=valid_num_ngs, test_num_ngs=test_num_ngs)\n",
                "    #### uncomment this for the NextItNet model, because it does not need to unfold the user history\n",
                "    # data_preprocessing(*input_files, sample_rate=sample_rate, valid_num_ngs=valid_num_ngs, test_num_ngs=test_num_ngs, is_history_expanding=False)\n"
            ]
        },
        {
            "cell_type": "markdown",
            "metadata": {},
            "source": [
                "#### 1.1 Prepare hyper-parameters\n",
                "prepare_hparams() will create a full set of hyper-parameters for model training, such as learning rate, feature number, and dropout ratio. We can put those parameters in a yaml file (a complete list of parameters can be found under our config folder) , or pass parameters as the function's parameters (which will overwrite yaml settings).\n",
                "\n",
                "Parameters hints: <br>\n",
                "`need_sample` controls whether to perform dynamic negative sampling in mini-batch. \n",
                "`train_num_ngs` indicates how many negative instances followed by one positive instances.  <br>\n",
                "Examples: <br>\n",
                "(1) `need_sample=True and train_num_ngs=4`:  There are only positive instances in your training file. Our model will dynamically sample 4 negative instances for each positive instances in mini-batch. Note that if need_sample is set to True, train_num_ngs should be greater than zero. <br>\n",
                "(2) `need_sample=False and train_num_ngs=4`: In your training file, each one positive line is followed by 4 negative lines. Note that if need_sample is set to False, you must provide a traiing file with negative instances, and train_num_ngs should match the number of negative number in your training file."
            ]
        },
        {
            "cell_type": "code",
            "execution_count": 4,
            "metadata": {
                "scrolled": true
            },
            "outputs": [],
            "source": [
                "### NOTE:  \n",
                "### remember to use `_create_vocab(train_file, user_vocab, item_vocab, cate_vocab)` to generate the user_vocab, item_vocab and cate_vocab files, if you are using your own dataset rather than using our demo Amazon dataset.\n",
                "hparams = prepare_hparams(yaml_file, \n",
                "                          embed_l2=0., \n",
                "                          layer_l2=0., \n",
                "                          learning_rate=0.001,  # set to 0.01 if batch normalization is disable\n",
                "                          epochs=EPOCHS,\n",
                "                          batch_size=BATCH_SIZE,\n",
                "                          show_step=20,\n",
                "                          MODEL_DIR=os.path.join(data_path, \"model/\"),\n",
                "                          SUMMARIES_DIR=os.path.join(data_path, \"summary/\"),\n",
                "                          user_vocab=user_vocab,\n",
                "                          item_vocab=item_vocab,\n",
                "                          cate_vocab=cate_vocab,\n",
                "                          need_sample=True,\n",
                "                          train_num_ngs=train_num_ngs, # provides the number of negative instances for each positive instance for loss computation.\n",
                "            )"
            ]
        },
        {
            "cell_type": "markdown",
            "metadata": {},
            "source": [
                "#### 1.2 Create data loader\n",
                "Designate a data iterator for the model. All our sequential models use SequentialIterator. \n",
                "data format is introduced aboved. \n",
                "\n",
                "<br>Validation and testing data are files after negative sampling offline with the number of `<num_ngs>` and `<test_num_ngs>`."
            ]
        },
        {
            "cell_type": "code",
            "execution_count": 5,
            "metadata": {},
            "outputs": [],
            "source": [
                "input_creator = SequentialIterator\n",
                "#### uncomment this for the NextItNet model, because it needs a special data iterator for training\n",
                "#input_creator = NextItNetIterator"
            ]
        },
        {
            "cell_type": "markdown",
            "metadata": {},
            "source": [
                "## 2. Create model\n",
                "When both hyper-parameters and data iterator are ready, we can create a model:"
            ]
        },
        {
            "cell_type": "code",
            "execution_count": 6,
            "metadata": {
                "scrolled": true
            },
            "outputs": [
                {
                    "name": "stderr",
                    "output_type": "stream",
                    "text": [
                        "c:\\Users\\hoanl\\.pyenv\\pyenv-win\\versions\\3.8.3\\lib\\site-packages\\recommenders\\models\\deeprec\\models\\base_model.py:701: UserWarning: `tf.layers.batch_normalization` is deprecated and will be removed in a future version. Please use `tf.keras.layers.BatchNormalization` instead. In particular, `tf.control_dependencies(tf.GraphKeys.UPDATE_OPS)` should not be used (consult the `tf.keras.layers.BatchNormalization` documentation).\n",
                        "  curr_hidden_nn_layer = tf.compat.v1.layers.batch_normalization(\n"
                    ]
                }
            ],
            "source": [
                "model = SeqModel(hparams, input_creator, seed=RANDOM_SEED)\n",
                "\n",
                "## sometimes we don't want to train a model from scratch\n",
                "## then we can load a pre-trained model like this: \n",
                "#model.load_model(r'your_model_path')"
            ]
        },
        {
            "cell_type": "markdown",
            "metadata": {},
            "source": [
                "Now let's see what is the model's performance at this point (without starting training):"
            ]
        },
        {
            "cell_type": "code",
            "execution_count": 7,
            "metadata": {},
            "outputs": [
                {
                    "name": "stdout",
                    "output_type": "stream",
                    "text": [
                        "{'auc': 0.4946, 'logloss': 0.6931, 'mean_mrr': 0.2653, 'ndcg@2': 0.1348, 'ndcg@4': 0.2179, 'ndcg@6': 0.2909, 'group_auc': 0.4935}\n"
                    ]
                }
            ],
            "source": [
                "# test_num_ngs is the number of negative lines after each positive line in your test_file\n",
                "print(model.run_eval(test_file, num_ngs=test_num_ngs)) "
            ]
        },
        {
            "cell_type": "markdown",
            "metadata": {},
            "source": [
                "AUC=0.5 is a state of random guess. We can see that before training, the model behaves like random guessing.\n",
                "\n",
                "#### 2.1 Train model\n",
                "Next we want to train the model on a training set, and check the performance on a validation dataset. Training the model is as simple as a function call:"
            ]
        },
        {
            "cell_type": "code",
            "execution_count": 8,
            "metadata": {
                "scrolled": true
            },
            "outputs": [
                {
                    "name": "stdout",
                    "output_type": "stream",
                    "text": [
                        "step 20 , total_loss: 1.6093, data_loss: 1.6093\n",
                        "step 40 , total_loss: 1.6098, data_loss: 1.6098\n",
                        "eval valid at epoch 1: auc:0.5092,logloss:0.693,mean_mrr:0.4659,ndcg@2:0.3371,ndcg@4:0.5214,ndcg@6:0.5967,group_auc:0.5107\n",
                        "step 20 , total_loss: 1.5627, data_loss: 1.5627\n",
                        "step 40 , total_loss: 1.4841, data_loss: 1.4841\n",
                        "eval valid at epoch 2: auc:0.5483,logloss:0.7003,mean_mrr:0.4766,ndcg@2:0.3551,ndcg@4:0.5333,ndcg@6:0.605,group_auc:0.5235\n",
                        "step 20 , total_loss: 1.4140, data_loss: 1.4140\n",
                        "step 40 , total_loss: 1.3893, data_loss: 1.3893\n",
                        "eval valid at epoch 3: auc:0.6732,logloss:0.7903,mean_mrr:0.5823,ndcg@2:0.5047,ndcg@4:0.6531,ndcg@6:0.6862,group_auc:0.6607\n",
                        "step 20 , total_loss: 1.3072, data_loss: 1.3072\n",
                        "step 40 , total_loss: 1.3204, data_loss: 1.3204\n",
                        "eval valid at epoch 4: auc:0.7074,logloss:0.6724,mean_mrr:0.6187,ndcg@2:0.5529,ndcg@4:0.6855,ndcg@6:0.7138,group_auc:0.6951\n",
                        "step 20 , total_loss: 1.2701, data_loss: 1.2701\n",
                        "step 40 , total_loss: 1.2932, data_loss: 1.2932\n",
                        "eval valid at epoch 5: auc:0.7222,logloss:0.6004,mean_mrr:0.6391,ndcg@2:0.578,ndcg@4:0.7008,ndcg@6:0.729,group_auc:0.7103\n",
                        "step 20 , total_loss: 1.2214, data_loss: 1.2214\n",
                        "step 40 , total_loss: 1.2493, data_loss: 1.2493\n",
                        "eval valid at epoch 6: auc:0.7295,logloss:0.6494,mean_mrr:0.6476,ndcg@2:0.5892,ndcg@4:0.71,ndcg@6:0.7355,group_auc:0.7193\n",
                        "step 20 , total_loss: 1.2561, data_loss: 1.2561\n",
                        "step 40 , total_loss: 1.2338, data_loss: 1.2338\n",
                        "eval valid at epoch 7: auc:0.7338,logloss:0.6722,mean_mrr:0.6556,ndcg@2:0.5967,ndcg@4:0.7152,ndcg@6:0.7415,group_auc:0.7242\n",
                        "step 20 , total_loss: 1.2603, data_loss: 1.2603\n",
                        "step 40 , total_loss: 1.2117, data_loss: 1.2117\n",
                        "eval valid at epoch 8: auc:0.7392,logloss:0.6265,mean_mrr:0.6621,ndcg@2:0.6079,ndcg@4:0.7214,ndcg@6:0.7465,group_auc:0.7321\n",
                        "step 20 , total_loss: 1.1673, data_loss: 1.1673\n",
                        "step 40 , total_loss: 1.2294, data_loss: 1.2294\n",
                        "eval valid at epoch 9: auc:0.7394,logloss:0.6365,mean_mrr:0.6616,ndcg@2:0.6076,ndcg@4:0.7205,ndcg@6:0.7461,group_auc:0.7314\n",
                        "step 20 , total_loss: 1.1201, data_loss: 1.1201\n",
                        "step 40 , total_loss: 1.2006, data_loss: 1.2006\n",
                        "eval valid at epoch 10: auc:0.7374,logloss:0.6087,mean_mrr:0.6622,ndcg@2:0.6072,ndcg@4:0.7187,ndcg@6:0.7464,group_auc:0.7295\n",
                        "[(1, {'auc': 0.5092, 'logloss': 0.693, 'mean_mrr': 0.4659, 'ndcg@2': 0.3371, 'ndcg@4': 0.5214, 'ndcg@6': 0.5967, 'group_auc': 0.5107}), (2, {'auc': 0.5483, 'logloss': 0.7003, 'mean_mrr': 0.4766, 'ndcg@2': 0.3551, 'ndcg@4': 0.5333, 'ndcg@6': 0.605, 'group_auc': 0.5235}), (3, {'auc': 0.6732, 'logloss': 0.7903, 'mean_mrr': 0.5823, 'ndcg@2': 0.5047, 'ndcg@4': 0.6531, 'ndcg@6': 0.6862, 'group_auc': 0.6607}), (4, {'auc': 0.7074, 'logloss': 0.6724, 'mean_mrr': 0.6187, 'ndcg@2': 0.5529, 'ndcg@4': 0.6855, 'ndcg@6': 0.7138, 'group_auc': 0.6951}), (5, {'auc': 0.7222, 'logloss': 0.6004, 'mean_mrr': 0.6391, 'ndcg@2': 0.578, 'ndcg@4': 0.7008, 'ndcg@6': 0.729, 'group_auc': 0.7103}), (6, {'auc': 0.7295, 'logloss': 0.6494, 'mean_mrr': 0.6476, 'ndcg@2': 0.5892, 'ndcg@4': 0.71, 'ndcg@6': 0.7355, 'group_auc': 0.7193}), (7, {'auc': 0.7338, 'logloss': 0.6722, 'mean_mrr': 0.6556, 'ndcg@2': 0.5967, 'ndcg@4': 0.7152, 'ndcg@6': 0.7415, 'group_auc': 0.7242}), (8, {'auc': 0.7392, 'logloss': 0.6265, 'mean_mrr': 0.6621, 'ndcg@2': 0.6079, 'ndcg@4': 0.7214, 'ndcg@6': 0.7465, 'group_auc': 0.7321}), (9, {'auc': 0.7394, 'logloss': 0.6365, 'mean_mrr': 0.6616, 'ndcg@2': 0.6076, 'ndcg@4': 0.7205, 'ndcg@6': 0.7461, 'group_auc': 0.7314}), (10, {'auc': 0.7374, 'logloss': 0.6087, 'mean_mrr': 0.6622, 'ndcg@2': 0.6072, 'ndcg@4': 0.7187, 'ndcg@6': 0.7464, 'group_auc': 0.7295})]\n",
                        "best epoch: 8\n",
                        "Time cost for training is 8.86 mins\n"
                    ]
                }
            ],
            "source": [
                "with Timer() as train_time:\n",
                "    model = model.fit(train_file, valid_file, valid_num_ngs=valid_num_ngs) \n",
                "\n",
                "# valid_num_ngs is the number of negative lines after each positive line in your valid_file \n",
                "# we will evaluate the performance of model on valid_file every epoch\n",
                "print('Time cost for training is {0:.2f} mins'.format(train_time.interval/60.0))"
            ]
        },
        {
            "cell_type": "markdown",
            "metadata": {},
            "source": [
                "#### 2.2  Evaluate model\n",
                "\n",
                "Again, let's see what is the model's performance now (after training):"
            ]
        },
        {
            "cell_type": "code",
            "execution_count": 9,
            "metadata": {},
            "outputs": [
                {
                    "name": "stdout",
                    "output_type": "stream",
                    "text": [
                        "{'auc': 0.7173, 'logloss': 0.6135, 'mean_mrr': 0.4809, 'ndcg@2': 0.3919, 'ndcg@4': 0.4949, 'ndcg@6': 0.5473, 'group_auc': 0.7041}\n"
                    ]
                }
            ],
            "source": [
                "res_syn = model.run_eval(test_file, num_ngs=test_num_ngs)\n",
                "print(res_syn)\n"
            ]
        },
        {
            "cell_type": "code",
            "execution_count": 10,
            "metadata": {},
            "outputs": [
                {
                    "data": {
                        "application/notebook_utils.json+json": {
                            "data": 0.7173,
                            "encoder": "json",
                            "name": "auc"
                        }
                    },
                    "metadata": {
                        "notebook_utils": {
                            "data": true,
                            "display": false,
                            "name": "auc"
                        }
                    },
                    "output_type": "display_data"
                },
                {
                    "data": {
                        "application/notebook_utils.json+json": {
                            "data": 0.6135,
                            "encoder": "json",
                            "name": "logloss"
                        }
                    },
                    "metadata": {
                        "notebook_utils": {
                            "data": true,
                            "display": false,
                            "name": "logloss"
                        }
                    },
                    "output_type": "display_data"
                },
                {
                    "data": {
                        "application/notebook_utils.json+json": {
                            "data": 0.4809,
                            "encoder": "json",
                            "name": "mean_mrr"
                        }
                    },
                    "metadata": {
                        "notebook_utils": {
                            "data": true,
                            "display": false,
                            "name": "mean_mrr"
                        }
                    },
                    "output_type": "display_data"
                },
                {
                    "data": {
                        "application/notebook_utils.json+json": {
                            "data": 0.3919,
                            "encoder": "json",
                            "name": "ndcg@2"
                        }
                    },
                    "metadata": {
                        "notebook_utils": {
                            "data": true,
                            "display": false,
                            "name": "ndcg@2"
                        }
                    },
                    "output_type": "display_data"
                },
                {
                    "data": {
                        "application/notebook_utils.json+json": {
                            "data": 0.4949,
                            "encoder": "json",
                            "name": "ndcg@4"
                        }
                    },
                    "metadata": {
                        "notebook_utils": {
                            "data": true,
                            "display": false,
                            "name": "ndcg@4"
                        }
                    },
                    "output_type": "display_data"
                },
                {
                    "data": {
                        "application/notebook_utils.json+json": {
                            "data": 0.5473,
                            "encoder": "json",
                            "name": "ndcg@6"
                        }
                    },
                    "metadata": {
                        "notebook_utils": {
                            "data": true,
                            "display": false,
                            "name": "ndcg@6"
                        }
                    },
                    "output_type": "display_data"
                },
                {
                    "data": {
                        "application/notebook_utils.json+json": {
                            "data": 0.7041,
                            "encoder": "json",
                            "name": "group_auc"
                        }
                    },
                    "metadata": {
                        "notebook_utils": {
                            "data": true,
                            "display": false,
                            "name": "group_auc"
                        }
                    },
                    "output_type": "display_data"
                }
            ],
            "source": [
                "# Record results for tests - ignore this cell\n",
                "store_metadata(\"auc\", res_syn[\"auc\"])\n",
                "store_metadata(\"logloss\", res_syn[\"logloss\"])\n",
                "store_metadata(\"mean_mrr\", res_syn[\"mean_mrr\"])\n",
                "store_metadata(\"ndcg@2\", res_syn[\"ndcg@2\"])\n",
                "store_metadata(\"ndcg@4\", res_syn[\"ndcg@4\"])\n",
                "store_metadata(\"ndcg@6\", res_syn[\"ndcg@6\"])\n",
                "store_metadata(\"group_auc\", res_syn[\"group_auc\"])\n"
            ]
        },
        {
            "cell_type": "markdown",
            "metadata": {},
            "source": [
                "If we want to get the full prediction scores rather than evaluation metrics, we can do this:"
            ]
        },
        {
            "cell_type": "code",
            "execution_count": 11,
            "metadata": {},
            "outputs": [],
            "source": [
                "model = model.predict(test_file, output_file)"
            ]
        },
        {
            "cell_type": "code",
            "execution_count": 12,
            "metadata": {},
            "outputs": [],
            "source": [
                "# The data was downloaded in tmpdir folder. You can delete them manually if you do not need them any more."
            ]
        },
        {
            "cell_type": "markdown",
            "metadata": {},
            "source": [
                "#### 2.3  Running models with large dataset\n",
                "Here are performances using the whole amazon dataset among popular sequential models with 1,697,533 positive instances.\n",
                "<br>Settings for reproducing the results:\n",
                "<br>`learning_rate=0.001, dropout=0.3, item_embedding_dim=32, cate_embedding_dim=8, l2_norm=0, batch_size=400, \n",
                "train_num_ngs=4, valid_num_ngs=4, test_num_ngs=49`\n",
                "\n",
                "\n",
                "We compare the running time with CPU only and with GPU on the larger dataset. It appears that GPU can significantly accelerate the training. Hardware specification for running the large dataset: \n",
                "<br>GPU: Tesla P100-PCIE-16GB\n",
                "<br>CPU: 6 cores Intel(R) Xeon(R) CPU E5-2690 v4 @ 2.60GHz\n",
                " \n",
                "| Models | AUC | g-AUC | NDCG@2 | NDCG@10 | seconds per epoch on GPU | seconds per epoch on CPU| config |\n",
                "| :------| :------: | :------: | :------: | :------: | :------: | :------: | :------ |\n",
                "| A2SVD | 0.8251 | 0.8178 | 0.2922 | 0.4264 | 249.5 | 440.0 | N/A |\n",
                "| GRU | 0.8411 | 0.8332 | 0.3213 | 0.4547 | 439.0 | 4285.0 | max_seq_length=50, hidden_size=40|\n",
                "| Caser | 0.8244 | 0.8171 | 0.283 | 0.4194 | 314.3 | 5369.9 | T=1, n_v=128, n_h=128, L=3, min_seq_length=5|\n",
                "| SLi_Rec | 0.8631 | 0.8519 | 0.3491 | 0.4842 | 549.6 | 5014.0 | attention_size=40, max_seq_length=50, hidden_size=40|\n",
                "| NextItNet* | 0.6793 | 0.6769 | 0.0602 | 0.1733 | 112.0 | 214.5 | min_seq_length=3, dilations=\\[1,2,4,1,2,4\\], kernel_size=3 |\n",
                "| SUM | 0.8481 | 0.8406 | 0.3394 | 0.4774 | 1005.0 | 9427.0 | hidden_size=40, slots=4, dropout=0|\n",
                "\n",
                " Note 1: The five models are grid searched with a coarse granularity and the results are for reference only.\n",
                " <br>Note 2: NextItNet model requires a dataset with strong sequence property, but the Amazon dataset used in this notebook does not meet that requirement, so NextItNet Model may not performance good. If you wish to use other datasets with strong sequence property, NextItNet is recommended.\n",
                " <br>Note 3: Time cost of NextItNet Model is significantly shorter than other models because it doesn't need a history expanding of training data."
            ]
        },
        {
            "cell_type": "markdown",
            "metadata": {},
            "source": [
                "## 3. Loading Trained Models\n",
                "In this section, we provide a simple example to illustrate how we can use the trained model to serve for production demand.\n",
                "\n",
                "Suppose we are in a new session. First let's load a previous trained model:"
            ]
        },
        {
            "cell_type": "code",
            "execution_count": 13,
            "metadata": {},
            "outputs": [
                {
                    "name": "stderr",
                    "output_type": "stream",
                    "text": [
                        "c:\\Users\\hoanl\\.pyenv\\pyenv-win\\versions\\3.8.3\\lib\\site-packages\\recommenders\\models\\deeprec\\models\\base_model.py:701: UserWarning: `tf.layers.batch_normalization` is deprecated and will be removed in a future version. Please use `tf.keras.layers.BatchNormalization` instead. In particular, `tf.control_dependencies(tf.GraphKeys.UPDATE_OPS)` should not be used (consult the `tf.keras.layers.BatchNormalization` documentation).\n",
                        "  curr_hidden_nn_layer = tf.compat.v1.layers.batch_normalization(\n"
                    ]
                },
                {
                    "name": "stdout",
                    "output_type": "stream",
                    "text": [
                        "loading saved model in ..\\..\\tests\\resources\\deeprec\\slirec\\model/best_model\n"
                    ]
                }
            ],
            "source": [
                "model_best_trained = SeqModel(hparams, input_creator, seed=RANDOM_SEED)\n",
                "path_best_trained = os.path.join(hparams.MODEL_DIR, \"best_model\")\n",
                "print('loading saved model in {0}'.format(path_best_trained))\n",
                "model_best_trained.load_model(path_best_trained)\n"
            ]
        },
        {
            "cell_type": "markdown",
            "metadata": {},
            "source": [
                "Let's see if we load the model correctly. The testing metrics should be close to the numbers we have in the training stage."
            ]
        },
        {
            "cell_type": "code",
            "execution_count": 14,
            "metadata": {},
            "outputs": [
                {
                    "data": {
                        "text/plain": [
                            "{'auc': 0.7102,\n",
                            " 'logloss': 0.6423,\n",
                            " 'mean_mrr': 0.4705,\n",
                            " 'ndcg@2': 0.3775,\n",
                            " 'ndcg@4': 0.4854,\n",
                            " 'ndcg@6': 0.5386,\n",
                            " 'group_auc': 0.698}"
                        ]
                    },
                    "execution_count": 14,
                    "metadata": {},
                    "output_type": "execute_result"
                }
            ],
            "source": [
                "model_best_trained.run_eval(test_file, num_ngs=test_num_ngs)"
            ]
        },
        {
            "cell_type": "markdown",
            "metadata": {},
            "source": [
                "And we make predictions using this model. In the next step, we will make predictions using a serving model. Then we can check if the two result files are consistent."
            ]
        },
        {
            "cell_type": "code",
            "execution_count": 31,
            "metadata": {},
            "outputs": [
                {
                    "data": {
                        "text/plain": [
                            "<recommenders.models.deeprec.models.sequential.sli_rec.SLI_RECModel at 0x1f107ac25e0>"
                        ]
                    },
                    "execution_count": 31,
                    "metadata": {},
                    "output_type": "execute_result"
                }
            ],
            "source": [
                "test_file1 = os.path.join(data_path, r'test_data1')\n",
                "output_file1 = os.path.join(data_path, r'output_file1')\n",
                "model_best_trained.predict(test_file1, output_file1)"
            ]
        },
        {
            "cell_type": "code",
            "execution_count": 29,
            "metadata": {},
            "outputs": [
                {
                    "ename": "AttributeError",
                    "evalue": "'int' object has no attribute 'shape'",
                    "output_type": "error",
                    "traceback": [
                        "\u001b[1;31m---------------------------------------------------------------------------\u001b[0m",
                        "\u001b[1;31mAttributeError\u001b[0m                            Traceback (most recent call last)",
                        "Cell \u001b[1;32mIn[29], line 1\u001b[0m\n\u001b[1;32m----> 1\u001b[0m \u001b[43ma\u001b[49m\u001b[38;5;241;43m.\u001b[39;49m\u001b[43m_attention_fcn\u001b[49m\u001b[43m(\u001b[49m\u001b[38;5;241;43m2\u001b[39;49m\u001b[43m,\u001b[49m\u001b[38;5;241;43m8\u001b[39;49m\u001b[43m)\u001b[49m\n",
                        "File \u001b[1;32mc:\\Users\\hoanl\\.pyenv\\pyenv-win\\versions\\3.8.3\\lib\\site-packages\\recommenders\\models\\deeprec\\models\\sequential\\sli_rec.py:110\u001b[0m, in \u001b[0;36mSLI_RECModel._attention_fcn\u001b[1;34m(self, query, user_embedding)\u001b[0m\n\u001b[0;32m    108\u001b[0m hparams \u001b[38;5;241m=\u001b[39m \u001b[38;5;28mself\u001b[39m\u001b[38;5;241m.\u001b[39mhparams\n\u001b[0;32m    109\u001b[0m \u001b[38;5;28;01mwith\u001b[39;00m tf\u001b[38;5;241m.\u001b[39mcompat\u001b[38;5;241m.\u001b[39mv1\u001b[38;5;241m.\u001b[39mvariable_scope(\u001b[38;5;124m\"\u001b[39m\u001b[38;5;124mattention_fcn\u001b[39m\u001b[38;5;124m\"\u001b[39m):\n\u001b[1;32m--> 110\u001b[0m     query_size \u001b[38;5;241m=\u001b[39m \u001b[43mquery\u001b[49m\u001b[38;5;241;43m.\u001b[39;49m\u001b[43mshape\u001b[49m[\u001b[38;5;241m1\u001b[39m]\n\u001b[0;32m    111\u001b[0m     boolean_mask \u001b[38;5;241m=\u001b[39m tf\u001b[38;5;241m.\u001b[39mequal(\u001b[38;5;28mself\u001b[39m\u001b[38;5;241m.\u001b[39mmask, tf\u001b[38;5;241m.\u001b[39mones_like(\u001b[38;5;28mself\u001b[39m\u001b[38;5;241m.\u001b[39mmask))\n\u001b[0;32m    113\u001b[0m     attention_mat \u001b[38;5;241m=\u001b[39m tf\u001b[38;5;241m.\u001b[39mcompat\u001b[38;5;241m.\u001b[39mv1\u001b[38;5;241m.\u001b[39mget_variable(\n\u001b[0;32m    114\u001b[0m         name\u001b[38;5;241m=\u001b[39m\u001b[38;5;124m\"\u001b[39m\u001b[38;5;124mattention_mat\u001b[39m\u001b[38;5;124m\"\u001b[39m,\n\u001b[0;32m    115\u001b[0m         shape\u001b[38;5;241m=\u001b[39m[user_embedding\u001b[38;5;241m.\u001b[39mshape\u001b[38;5;241m.\u001b[39mas_list()[\u001b[38;5;241m-\u001b[39m\u001b[38;5;241m1\u001b[39m], query_size],\n\u001b[0;32m    116\u001b[0m         initializer\u001b[38;5;241m=\u001b[39m\u001b[38;5;28mself\u001b[39m\u001b[38;5;241m.\u001b[39minitializer,\n\u001b[0;32m    117\u001b[0m     )\n",
                        "\u001b[1;31mAttributeError\u001b[0m: 'int' object has no attribute 'shape'"
                    ]
                }
            ],
            "source": []
        },
        {
            "cell_type": "markdown",
            "metadata": {},
            "source": [
                "## References\n",
                "\\[1\\] Zeping Yu, Jianxun Lian, Ahmad Mahmoody, Gongshen Liu, Xing Xie. Adaptive User Modeling with Long and Short-Term Preferences for Personailzed Recommendation. In Proceedings of the 28th International Joint Conferences on Artificial Intelligence, IJCAI’19, Pages 4213-4219. AAAI Press, 2019.\n",
                "\n",
                "\\[2\\] Kyunghyun Cho, Bart van Merrienboer, Caglar Gulcehre, Dzmitry Bahdanau, Fethi Bougares, Holger Schwenk, and Yoshua Bengio. Learning Phrase Representations using RNN Encoder-Decoder for Statistical Machine Translation. arXiv preprint arXiv:1406.1078. 2014.\n",
                "\n",
                "\\[3\\] Tang, Jiaxi, and Ke Wang. Personalized top-n sequential recommendation via convolutional sequence embedding. Proceedings of the Eleventh ACM International Conference on Web Search and Data Mining. ACM, 2018.\n",
                "\n",
                "\\[4\\] Yuan, F., Karatzoglou, A., Arapakis, I., Jose, J. M., & He, X. A Simple Convolutional Generative Network for Next Item Recommendation. WSDM, 2019.\n",
                "\n",
                "\\[5\\] Lian, J., Batal, I., Liu, Z., Soni, A., Kang, E. Y., Wang, Y., & Xie, X. Multi-Interest-Aware User Modeling for Large-Scale Sequential Recommendations. arXiv preprint arXiv:2102.09211. 2021."
            ]
        },
        {
            "cell_type": "code",
            "execution_count": null,
            "metadata": {},
            "outputs": [],
            "source": []
        }
    ],
    "metadata": {
        "celltoolbar": "Tags",
        "interpreter": {
            "hash": "3a9a0c422ff9f08d62211b9648017c63b0a26d2c935edc37ebb8453675d13bb5"
        },
        "kernelspec": {
            "display_name": "Python 3.7.11 64-bit ('tf2': conda)",
            "language": "python",
            "name": "python3"
        },
        "language_info": {
            "codemirror_mode": {
                "name": "ipython",
                "version": 3
            },
            "file_extension": ".py",
            "mimetype": "text/x-python",
            "name": "python",
            "nbconvert_exporter": "python",
            "pygments_lexer": "ipython3",
            "version": "3.8.3"
        }
    },
    "nbformat": 4,
    "nbformat_minor": 2
}
